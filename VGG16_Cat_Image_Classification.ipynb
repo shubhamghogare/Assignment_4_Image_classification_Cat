{
  "nbformat": 4,
  "nbformat_minor": 0,
  "metadata": {
    "colab": {
      "name": "VGG16_Cat_Image_Classification.ipynb",
      "provenance": []
    },
    "kernelspec": {
      "name": "python3",
      "display_name": "Python 3"
    },
    "language_info": {
      "name": "python"
    },
    "accelerator": "GPU"
  },
  "cells": [
    {
      "cell_type": "code",
      "execution_count": 4,
      "metadata": {
        "colab": {
          "base_uri": "https://localhost:8080/"
        },
        "id": "LWeDahUu4v3-",
        "outputId": "84f93280-b91a-4cf3-c68d-8959d6a7cb9a"
      },
      "outputs": [
        {
          "output_type": "stream",
          "name": "stdout",
          "text": [
            "Default GPU Device:/device:GPU:0\n"
          ]
        }
      ],
      "source": [
        "#import tensorflow\n",
        "import tensorflow as tf \n",
        "\n",
        "#code to check whether gpu is thier or not\n",
        "if tf.test.gpu_device_name(): \n",
        "    \n",
        "\n",
        "    print('Default GPU Device:{}'.format(tf.test.gpu_device_name()))\n",
        "\n",
        "else:\n",
        "\n",
        "    print(\"Please install GPU version of TF\")"
      ]
    },
    {
      "cell_type": "code",
      "source": [
        "import os\n",
        "import numpy as np\n",
        "import pandas as pd\n",
        "import cv2"
      ],
      "metadata": {
        "id": "yDcuiZGK6Vl_"
      },
      "execution_count": 3,
      "outputs": []
    },
    {
      "cell_type": "markdown",
      "source": [
        "**Model- Description**\n",
        "\n",
        "1.   Use VGG-16 pretrained network without Fully Connected layers and initilize all the weights with Imagenet trained weights.\n",
        "\n",
        "2.  After VGG-16 network without FC layers, add 2 FC layers and a output layer to classify 2 classes.\n",
        "\n",
        "3.   Final architecture will be INPUT --> VGG-16 without Top layers(FC) ---> 2 FC layers --> Output Layer\n",
        "4.   Train only FC layers, output layer. Don't train the VGG-16 network.\n",
        "\n",
        "\n",
        "\n"
      ],
      "metadata": {
        "id": "VAfTjHcDemzU"
      }
    },
    {
      "cell_type": "code",
      "source": [
        "# import the libraries as shown below\n",
        "from tensorflow.keras.layers import Conv2D, MaxPooling2D\n",
        "from tensorflow.keras.layers import Input, Lambda, Dense, Flatten\n",
        "from tensorflow.keras.models import Model\n",
        "from tensorflow.keras.applications.vgg16 import VGG16\n",
        "from tensorflow.keras.applications.vgg16 import preprocess_input\n",
        "from tensorflow.keras.preprocessing import image\n",
        "from tensorflow.keras.preprocessing.image import ImageDataGenerator,load_img\n",
        "from tensorflow.keras.models import Sequential\n",
        "import numpy as np\n",
        "from glob import glob"
      ],
      "metadata": {
        "id": "bI2DURvz6uR_"
      },
      "execution_count": 5,
      "outputs": []
    },
    {
      "cell_type": "code",
      "source": [
        "dir_path =\"/content/drive/MyDrive/cat_species_dataset\""
      ],
      "metadata": {
        "id": "lmnBe58S6wiM"
      },
      "execution_count": 6,
      "outputs": []
    },
    {
      "cell_type": "code",
      "source": [
        "len(os.listdir(dir_path))"
      ],
      "metadata": {
        "colab": {
          "base_uri": "https://localhost:8080/"
        },
        "id": "3klawjaD7QOd",
        "outputId": "bb1002db-e512-4319-c031-233624c27fb3"
      },
      "execution_count": 7,
      "outputs": [
        {
          "output_type": "execute_result",
          "data": {
            "text/plain": [
              "7"
            ]
          },
          "metadata": {},
          "execution_count": 7
        }
      ]
    },
    {
      "cell_type": "code",
      "source": [
        "for i in os.listdir(dir_path):\n",
        "    print(\"No of Images in \",i,\" category is \",len(os.listdir(os.path.join(dir_path,i))))"
      ],
      "metadata": {
        "colab": {
          "base_uri": "https://localhost:8080/"
        },
        "id": "d--NhdPm7a1f",
        "outputId": "17a448a9-8139-4a3f-dc4a-1518c9ab173c"
      },
      "execution_count": 8,
      "outputs": [
        {
          "output_type": "stream",
          "name": "stdout",
          "text": [
            "No of Images in  Norwegien_forest_cat_images  category is  48\n",
            "No of Images in   Persian_cat_images  category is  61\n",
            "No of Images in  Turkish_Van_cat_images  category is  315\n",
            "No of Images in  Ragdoll_cat_image  category is  202\n",
            "No of Images in  Siamese_cat_images  category is  172\n",
            "No of Images in  American _Shorthairs_Cat_image  category is  111\n",
            "No of Images in  Bombay_cat_images  category is  354\n",
            "No of Images in  Kinkalow_cat_images  category is  48\n",
            "No of Images in  Cougar_cat_images  category is  79\n"
          ]
        }
      ]
    },
    {
      "cell_type": "code",
      "source": [
        "!pip install split-folders\n",
        "import splitfolders # or import splitfolders\n",
        "input_folder = \"/content/drive/MyDrive/cat_species_dataset\"\n",
        "output = \"/content/drive/MyDrive/output_cat_dataset\" #where you want the split datasets saved. one will be created if it does not exist or none is set\n",
        "\n",
        "splitfolders.ratio(input_folder, output=output, seed=42, ratio=(.8, .1, .1)) # rat\n",
        "\n"
      ],
      "metadata": {
        "colab": {
          "base_uri": "https://localhost:8080/"
        },
        "id": "kkA5kRX77pk1",
        "outputId": "ed025a7b-8255-4af4-cab2-c8141e2b9550"
      },
      "execution_count": 9,
      "outputs": [
        {
          "output_type": "stream",
          "name": "stdout",
          "text": [
            "Collecting split-folders\n",
            "  Downloading split_folders-0.5.1-py3-none-any.whl (8.4 kB)\n",
            "Installing collected packages: split-folders\n",
            "Successfully installed split-folders-0.5.1\n"
          ]
        },
        {
          "output_type": "stream",
          "name": "stderr",
          "text": [
            "Copying files: 1206 files [01:22, 14.69 files/s]\n"
          ]
        }
      ]
    },
    {
      "cell_type": "code",
      "source": [
        "# re-size all the images to this\n",
        "IMAGE_SIZE = [224, 224]\n",
        "\n",
        "train_path = '/content/drive/MyDrive/output_cat_dataset/train'\n",
        "valid_path = '/content/drive/MyDrive/output_cat_dataset/val'"
      ],
      "metadata": {
        "id": "RnWLbslnX8mt"
      },
      "execution_count": 10,
      "outputs": []
    },
    {
      "cell_type": "code",
      "source": [
        "# Import the Vgg 16 library as shown below and add preprocessing layer to the front of VGG\n",
        "# Here we will be using imagenet weights\n",
        "\n",
        "vgg16 = VGG16(input_shape=IMAGE_SIZE + [3], weights='imagenet', include_top=False)\n",
        "\n",
        "\n",
        "#[3] is for rgb scale image and [1] is for grayscale image"
      ],
      "metadata": {
        "colab": {
          "base_uri": "https://localhost:8080/"
        },
        "id": "yfgRYscA8ErO",
        "outputId": "1879fc25-b841-41a9-b9c7-3a0ee144a514"
      },
      "execution_count": 11,
      "outputs": [
        {
          "output_type": "stream",
          "name": "stdout",
          "text": [
            "Downloading data from https://storage.googleapis.com/tensorflow/keras-applications/vgg16/vgg16_weights_tf_dim_ordering_tf_kernels_notop.h5\n",
            "58892288/58889256 [==============================] - 0s 0us/step\n",
            "58900480/58889256 [==============================] - 0s 0us/step\n"
          ]
        }
      ]
    },
    {
      "cell_type": "code",
      "source": [
        "# don't train existing weights\n",
        "#freezing the weights\n",
        "for layer in vgg16.layers:\n",
        "    layer.trainable = False"
      ],
      "metadata": {
        "id": "ghGhgadC8MCU"
      },
      "execution_count": 12,
      "outputs": []
    },
    {
      "cell_type": "code",
      "source": [
        "# useful for getting number of output classes\n",
        "folders = glob('/content/drive/MyDrive/output_cat_dataset/train/*')"
      ],
      "metadata": {
        "id": "QzxXE8iu8XbF"
      },
      "execution_count": 13,
      "outputs": []
    },
    {
      "cell_type": "markdown",
      "source": [
        ""
      ],
      "metadata": {
        "id": "qBUjJFVu5FtP"
      }
    },
    {
      "cell_type": "code",
      "source": [
        "# our layers - you can add more if you want\n",
        "Dense1 = Dense(500,name=\"Dense1\",activation='relu')(vgg16.output)\n",
        "Dense2 = Dense(500,name=\"Dense2\",activation='relu')(Dense1)\n",
        "x=Flatten()(Dense2)\n",
        "prediction = Dense(7,name=\"Output\", activation='softmax')(x)"
      ],
      "metadata": {
        "id": "bQI38tYU8p0g"
      },
      "execution_count": 14,
      "outputs": []
    },
    {
      "cell_type": "code",
      "source": [
        "# create a model object\n",
        "model = Model(inputs=vgg16.input, outputs=prediction)"
      ],
      "metadata": {
        "id": "dU7p9sci8sVz"
      },
      "execution_count": 15,
      "outputs": []
    },
    {
      "cell_type": "code",
      "source": [
        "# view the structure of the model\n",
        "model.summary()"
      ],
      "metadata": {
        "colab": {
          "base_uri": "https://localhost:8080/"
        },
        "id": "cu77_5YV8yKX",
        "outputId": "058ada5b-8f46-4f19-87b4-6254659f3cc6"
      },
      "execution_count": 16,
      "outputs": [
        {
          "output_type": "stream",
          "name": "stdout",
          "text": [
            "Model: \"model\"\n",
            "_________________________________________________________________\n",
            " Layer (type)                Output Shape              Param #   \n",
            "=================================================================\n",
            " input_1 (InputLayer)        [(None, 224, 224, 3)]     0         \n",
            "                                                                 \n",
            " block1_conv1 (Conv2D)       (None, 224, 224, 64)      1792      \n",
            "                                                                 \n",
            " block1_conv2 (Conv2D)       (None, 224, 224, 64)      36928     \n",
            "                                                                 \n",
            " block1_pool (MaxPooling2D)  (None, 112, 112, 64)      0         \n",
            "                                                                 \n",
            " block2_conv1 (Conv2D)       (None, 112, 112, 128)     73856     \n",
            "                                                                 \n",
            " block2_conv2 (Conv2D)       (None, 112, 112, 128)     147584    \n",
            "                                                                 \n",
            " block2_pool (MaxPooling2D)  (None, 56, 56, 128)       0         \n",
            "                                                                 \n",
            " block3_conv1 (Conv2D)       (None, 56, 56, 256)       295168    \n",
            "                                                                 \n",
            " block3_conv2 (Conv2D)       (None, 56, 56, 256)       590080    \n",
            "                                                                 \n",
            " block3_conv3 (Conv2D)       (None, 56, 56, 256)       590080    \n",
            "                                                                 \n",
            " block3_pool (MaxPooling2D)  (None, 28, 28, 256)       0         \n",
            "                                                                 \n",
            " block4_conv1 (Conv2D)       (None, 28, 28, 512)       1180160   \n",
            "                                                                 \n",
            " block4_conv2 (Conv2D)       (None, 28, 28, 512)       2359808   \n",
            "                                                                 \n",
            " block4_conv3 (Conv2D)       (None, 28, 28, 512)       2359808   \n",
            "                                                                 \n",
            " block4_pool (MaxPooling2D)  (None, 14, 14, 512)       0         \n",
            "                                                                 \n",
            " block5_conv1 (Conv2D)       (None, 14, 14, 512)       2359808   \n",
            "                                                                 \n",
            " block5_conv2 (Conv2D)       (None, 14, 14, 512)       2359808   \n",
            "                                                                 \n",
            " block5_conv3 (Conv2D)       (None, 14, 14, 512)       2359808   \n",
            "                                                                 \n",
            " block5_pool (MaxPooling2D)  (None, 7, 7, 512)         0         \n",
            "                                                                 \n",
            " Dense1 (Dense)              (None, 7, 7, 500)         256500    \n",
            "                                                                 \n",
            " Dense2 (Dense)              (None, 7, 7, 500)         250500    \n",
            "                                                                 \n",
            " flatten (Flatten)           (None, 24500)             0         \n",
            "                                                                 \n",
            " Output (Dense)              (None, 7)                 171507    \n",
            "                                                                 \n",
            "=================================================================\n",
            "Total params: 15,393,195\n",
            "Trainable params: 678,507\n",
            "Non-trainable params: 14,714,688\n",
            "_________________________________________________________________\n"
          ]
        }
      ]
    },
    {
      "cell_type": "code",
      "source": [
        "# tell the model what cost and optimization method to use\n",
        "model.compile(\n",
        "  loss='categorical_crossentropy',\n",
        "  optimizer='adam',\n",
        "  metrics=['accuracy']\n",
        ")"
      ],
      "metadata": {
        "id": "yMkRGe4C85H0"
      },
      "execution_count": 17,
      "outputs": []
    },
    {
      "cell_type": "code",
      "source": [
        "# Use the Image Data Generator to import the images from the dataset\n",
        "from keras.preprocessing.image import ImageDataGenerator\n",
        "\n",
        "train_datagen = ImageDataGenerator(rescale = 1./255,\n",
        "                                   shear_range = 0.2,\n",
        "                                   zoom_range = 0.2,\n",
        "                                   horizontal_flip = True)\n",
        "\n",
        "test_datagen = ImageDataGenerator(rescale = 1./255)"
      ],
      "metadata": {
        "id": "jj11sw899jC0"
      },
      "execution_count": 18,
      "outputs": []
    },
    {
      "cell_type": "code",
      "source": [
        "# Make sure you provide the same target size as initialied for the image size\n",
        "training_set = train_datagen.flow_from_directory('/content/drive/MyDrive/output_cat_dataset/train',\n",
        "                                                 target_size = (224, 224),\n",
        "                                                 batch_size = 32,\n",
        "                                                 class_mode = 'categorical')"
      ],
      "metadata": {
        "colab": {
          "base_uri": "https://localhost:8080/"
        },
        "id": "Fjv3RTtfBlWs",
        "outputId": "dfd73efe-a3ab-46a5-83e1-ffb2ca78ea53"
      },
      "execution_count": 22,
      "outputs": [
        {
          "output_type": "stream",
          "name": "stdout",
          "text": [
            "Found 960 images belonging to 7 classes.\n"
          ]
        }
      ]
    },
    {
      "cell_type": "code",
      "source": [
        "valid_set = test_datagen.flow_from_directory('/content/drive/MyDrive/output_cat_dataset/val',\n",
        "                                            target_size = (224, 224),\n",
        "                                            batch_size = 16,\n",
        "                                            class_mode = 'categorical')"
      ],
      "metadata": {
        "colab": {
          "base_uri": "https://localhost:8080/"
        },
        "id": "X82gSelDBlgb",
        "outputId": "17166391-09b1-4b1d-90fa-d58005e83005"
      },
      "execution_count": 23,
      "outputs": [
        {
          "output_type": "stream",
          "name": "stdout",
          "text": [
            "Found 118 images belonging to 7 classes.\n"
          ]
        }
      ]
    },
    {
      "cell_type": "code",
      "source": [
        "# fit the model\n",
        "# Run the cell. It will take some time to execute\n",
        "r = model.fit(\n",
        "  training_set,\n",
        "  validation_data=valid_set,\n",
        "  epochs=15,\n",
        "  steps_per_epoch=len(training_set),\n",
        "  validation_steps=len(valid_set)\n",
        ")"
      ],
      "metadata": {
        "colab": {
          "base_uri": "https://localhost:8080/"
        },
        "id": "FRlHvQeNCKjN",
        "outputId": "9151beb4-1eca-43f8-a8f2-03face156fe4"
      },
      "execution_count": 24,
      "outputs": [
        {
          "output_type": "stream",
          "name": "stderr",
          "text": [
            "/usr/local/lib/python3.7/dist-packages/PIL/Image.py:960: UserWarning: Palette images with Transparency expressed in bytes should be converted to RGBA images\n",
            "  \"Palette images with Transparency expressed in bytes should be \"\n"
          ]
        },
        {
          "output_type": "stream",
          "name": "stdout",
          "text": [
            "Epoch 1/15\n",
            "30/30 [==============================] - 54s 1s/step - loss: 1.8213 - accuracy: 0.3875 - val_loss: 1.1398 - val_accuracy: 0.5763\n",
            "Epoch 2/15\n",
            "30/30 [==============================] - 37s 1s/step - loss: 0.7782 - accuracy: 0.7281 - val_loss: 0.4403 - val_accuracy: 0.8559\n",
            "Epoch 3/15\n",
            "30/30 [==============================] - 38s 1s/step - loss: 0.5030 - accuracy: 0.8260 - val_loss: 0.4273 - val_accuracy: 0.8898\n",
            "Epoch 4/15\n",
            "30/30 [==============================] - 38s 1s/step - loss: 0.3221 - accuracy: 0.8917 - val_loss: 0.2675 - val_accuracy: 0.9153\n",
            "Epoch 5/15\n",
            "30/30 [==============================] - 38s 1s/step - loss: 0.1780 - accuracy: 0.9458 - val_loss: 0.2104 - val_accuracy: 0.9237\n",
            "Epoch 6/15\n",
            "30/30 [==============================] - 38s 1s/step - loss: 0.1261 - accuracy: 0.9594 - val_loss: 0.3163 - val_accuracy: 0.9153\n",
            "Epoch 7/15\n",
            "30/30 [==============================] - 37s 1s/step - loss: 0.1007 - accuracy: 0.9635 - val_loss: 0.2478 - val_accuracy: 0.9068\n",
            "Epoch 8/15\n",
            "30/30 [==============================] - 38s 1s/step - loss: 0.0894 - accuracy: 0.9708 - val_loss: 0.3244 - val_accuracy: 0.9322\n",
            "Epoch 9/15\n",
            "30/30 [==============================] - 38s 1s/step - loss: 0.0601 - accuracy: 0.9844 - val_loss: 0.1880 - val_accuracy: 0.9407\n",
            "Epoch 10/15\n",
            "30/30 [==============================] - 37s 1s/step - loss: 0.0665 - accuracy: 0.9792 - val_loss: 0.2864 - val_accuracy: 0.9322\n",
            "Epoch 11/15\n",
            "30/30 [==============================] - 37s 1s/step - loss: 0.0277 - accuracy: 0.9937 - val_loss: 0.2193 - val_accuracy: 0.9407\n",
            "Epoch 12/15\n",
            "30/30 [==============================] - 38s 1s/step - loss: 0.0667 - accuracy: 0.9812 - val_loss: 0.3323 - val_accuracy: 0.9153\n",
            "Epoch 13/15\n",
            "30/30 [==============================] - 35s 1s/step - loss: 0.0372 - accuracy: 0.9917 - val_loss: 0.2038 - val_accuracy: 0.9576\n",
            "Epoch 14/15\n",
            "30/30 [==============================] - 34s 1s/step - loss: 0.0217 - accuracy: 0.9969 - val_loss: 0.3514 - val_accuracy: 0.9153\n",
            "Epoch 15/15\n",
            "30/30 [==============================] - 34s 1s/step - loss: 0.0202 - accuracy: 0.9958 - val_loss: 0.3260 - val_accuracy: 0.9407\n"
          ]
        }
      ]
    },
    {
      "cell_type": "code",
      "source": [
        "# plot the loss\n",
        "import matplotlib.pyplot as plt\n",
        "plt.plot(r.history['loss'], label='train loss')\n",
        "plt.plot(r.history['val_loss'], label='val loss')\n",
        "plt.legend()\n",
        "plt.show()\n",
        "plt.savefig('LossVal_loss')\n",
        "\n",
        "# plot the accuracy\n",
        "plt.plot(r.history['accuracy'], label='train acc')\n",
        "plt.plot(r.history['val_accuracy'], label='val acc')\n",
        "plt.legend()\n",
        "plt.show()\n",
        "plt.savefig('AccVal_acc')"
      ],
      "metadata": {
        "colab": {
          "base_uri": "https://localhost:8080/",
          "height": 530
        },
        "id": "lDXU-6VNMPS4",
        "outputId": "db46bdb4-0fdb-44aa-f0ac-eb0051df30a7"
      },
      "execution_count": 25,
      "outputs": [
        {
          "output_type": "display_data",
          "data": {
            "text/plain": [
              "<Figure size 432x288 with 1 Axes>"
            ],
            "image/png": "[encoded data removed]"
          },
          "metadata": {
            "needs_background": "light"
          }
        },
        {
          "output_type": "display_data",
          "data": {
            "text/plain": [
              "<Figure size 432x288 with 1 Axes>"
            ],
            "image/png": "[encoded data removed]"
          },
          "metadata": {
            "needs_background": "light"
          }
        },
        {
          "output_type": "display_data",
          "data": {
            "text/plain": [
              "<Figure size 432x288 with 0 Axes>"
            ]
          },
          "metadata": {}
        }
      ]
    },
    {
      "cell_type": "markdown",
      "source": [
        "Testing Pipeline"
      ],
      "metadata": {
        "id": "ZQGOY4vjbZP3"
      }
    },
    {
      "cell_type": "code",
      "source": [
        "from keras.preprocessing.image import load_img\n",
        "# load an image from file\n",
        "image = load_img('/content/drive/MyDrive/output_cat_dataset/test/Siamese_cat_images/Siamese cat Angry_17.jpeg', target_size=(224, 224))"
      ],
      "metadata": {
        "id": "2qnzbgxdbbZs"
      },
      "execution_count": 38,
      "outputs": []
    },
    {
      "cell_type": "code",
      "source": [
        "from keras.preprocessing.image import img_to_array\n",
        "# convert the image pixels to a numpy array\n",
        "image = img_to_array(image)"
      ],
      "metadata": {
        "id": "_LDokrNfbrmt"
      },
      "execution_count": 39,
      "outputs": []
    },
    {
      "cell_type": "code",
      "source": [
        "# reshape data for the model\n",
        "image = image.reshape((1, image.shape[0], image.shape[1], image.shape[2]))"
      ],
      "metadata": {
        "id": "b6147Yo2bukh"
      },
      "execution_count": 40,
      "outputs": []
    },
    {
      "cell_type": "code",
      "source": [
        "from keras.applications.vgg16 import preprocess_input\n",
        "# prepare the image for the VGG model\n",
        "image = preprocess_input(image)"
      ],
      "metadata": {
        "id": "RIGFsoGlbzyY"
      },
      "execution_count": 41,
      "outputs": []
    },
    {
      "cell_type": "code",
      "source": [
        "# predict the probability across all output classes\n",
        "yhat = model.predict(image)"
      ],
      "metadata": {
        "id": "Gb7oH324b23_"
      },
      "execution_count": 42,
      "outputs": []
    },
    {
      "cell_type": "code",
      "source": [
        "yhat"
      ],
      "metadata": {
        "colab": {
          "base_uri": "https://localhost:8080/"
        },
        "id": "mmdlZS3_b6NX",
        "outputId": "1eb4837d-10cc-497c-8036-65650c408488"
      },
      "execution_count": 43,
      "outputs": [
        {
          "output_type": "execute_result",
          "data": {
            "text/plain": [
              "array([[0., 0., 0., 0., 0., 1., 0.]], dtype=float32)"
            ]
          },
          "metadata": {},
          "execution_count": 43
        }
      ]
    },
    {
      "cell_type": "code",
      "source": [
        "result = np.where(yhat == np.amax(yhat))\n",
        "r= result[1][0]\n",
        "r"
      ],
      "metadata": {
        "colab": {
          "base_uri": "https://localhost:8080/"
        },
        "id": "OMDotZmLb_Vv",
        "outputId": "3d4a8506-4dd0-4e1d-e049-550b7bc7cd9c"
      },
      "execution_count": 44,
      "outputs": [
        {
          "output_type": "execute_result",
          "data": {
            "text/plain": [
              "5"
            ]
          },
          "metadata": {},
          "execution_count": 44
        }
      ]
    },
    {
      "cell_type": "code",
      "source": [
        "labels = sorted(os.listdir('/content/drive/MyDrive/output_cat_dataset/train'))"
      ],
      "metadata": {
        "id": "0AEkiVDCcJgN"
      },
      "execution_count": 45,
      "outputs": []
    },
    {
      "cell_type": "code",
      "source": [
        "labels[r]"
      ],
      "metadata": {
        "colab": {
          "base_uri": "https://localhost:8080/",
          "height": 35
        },
        "id": "AYXScAbwchzm",
        "outputId": "20479a9a-53c6-4adf-ecf3-5f0c402250dd"
      },
      "execution_count": 46,
      "outputs": [
        {
          "output_type": "execute_result",
          "data": {
            "text/plain": [
              "'Siamese_cat_images'"
            ],
            "application/vnd.google.colaboratory.intrinsic+json": {
              "type": "string"
            }
          },
          "metadata": {},
          "execution_count": 46
        }
      ]
    },
    {
      "cell_type": "code",
      "source": [
        "from PIL import Image\n",
        "import matplotlib.image as mpimg\n",
        "import matplotlib.pyplot as plt"
      ],
      "metadata": {
        "id": "tuswaa3bc_O3"
      },
      "execution_count": 47,
      "outputs": []
    }
  ]
}